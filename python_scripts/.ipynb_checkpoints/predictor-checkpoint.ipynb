{
 "cells": [
  {
   "cell_type": "code",
   "execution_count": 150,
   "id": "44e7e9c3",
   "metadata": {},
   "outputs": [],
   "source": [
    "#import pandas as pd\n",
    "from keras.models import Sequential\n",
    "from keras.layers import Dense\n",
    "from keras.layers import Dropout\n",
    "from keras.layers import Flatten\n",
    "from tensorflow.keras.optimizers import Adam\n",
    "from tensorflow.keras.models import Sequential, save_model, load_model\n",
    "from keras.layers.convolutional import Conv2D\n",
    "from keras.layers.convolutional import MaxPooling2D\n",
    "from keras import backend as K\n",
    "from keras.utils import np_utils\n",
    "#from sklearn.model_selection import train_test_split\n",
    "import numpy as np\n",
    "#import matplotlib.pyplot as plt\n",
    "#import seaborn as sns\n",
    "from tensorflow.keras.preprocessing.image import img_to_array\n",
    "from tensorflow.keras.applications.imagenet_utils import decode_predictions\n",
    "from keras.preprocessing import image\n",
    "import image\n",
    "import os\n",
    "from PIL import Image\n",
    "import matplotlib.pyplot as plt\n",
    "import PIL.ImageOps"
   ]
  },
  {
   "cell_type": "code",
   "execution_count": 2,
   "id": "5c01dea2",
   "metadata": {},
   "outputs": [],
   "source": [
    "model = load_model('./saved_model/')"
   ]
  },
  {
   "cell_type": "code",
   "execution_count": 154,
   "id": "a7bee64a",
   "metadata": {},
   "outputs": [],
   "source": [
    "imageList = []\n",
    "\n",
    "path = '../www/pictures_to_predict/'\n",
    "\n",
    "size = 28,28\n",
    "\n",
    "for file in os.listdir(path):\n",
    "    f_img = path + file\n",
    "    img = Image.open(f_img)\n",
    "    \n",
    "    img = img.convert('L')\n",
    "    img = PIL.ImageOps.invert(img)\n",
    "    \n",
    "    \n",
    "    img.thumbnail(size, Image.ANTIALIAS)\n",
    "    \n",
    "    \n",
    "    img = img_to_array(img).astype('float32')\n",
    "\n",
    "    img = img / 255\n",
    "    \n",
    "    \n",
    "    imageList.append(img)\n",
    "\n",
    "\n"
   ]
  },
  {
   "cell_type": "code",
   "execution_count": 155,
   "id": "124ec014",
   "metadata": {},
   "outputs": [
    {
     "data": {
      "image/png": "[encoded data removed]",
      "text/plain": [
       "<Figure size 432x288 with 1 Axes>"
      ]
     },
     "metadata": {
      "needs_background": "light"
     },
     "output_type": "display_data"
    },
    {
     "data": {
      "image/png": "[encoded data removed]",
      "text/plain": [
       "<Figure size 432x288 with 1 Axes>"
      ]
     },
     "metadata": {
      "needs_background": "light"
     },
     "output_type": "display_data"
    },
    {
     "data": {
      "image/png": "[encoded data removed]",
      "text/plain": [
       "<Figure size 432x288 with 1 Axes>"
      ]
     },
     "metadata": {
      "needs_background": "light"
     },
     "output_type": "display_data"
    },
    {
     "data": {
      "image/png": "[encoded data removed]",
      "text/plain": [
       "<Figure size 432x288 with 1 Axes>"
      ]
     },
     "metadata": {
      "needs_background": "light"
     },
     "output_type": "display_data"
    }
   ],
   "source": [
    "samples_to_predict = np.array(imageList)\n",
    "\n",
    "\n",
    "\n",
    "for i in range(0,len(samples_to_predict)):\n",
    "    plt.imshow(samples_to_predict[i], cmap = 'Greys') \n",
    "    plt.show()\n"
   ]
  },
  {
   "cell_type": "code",
   "execution_count": 156,
   "id": "34c2cc24",
   "metadata": {},
   "outputs": [
    {
     "name": "stdout",
     "output_type": "stream",
     "text": [
      "['X', 'R', 'X', 'Y']\n"
     ]
    }
   ],
   "source": [
    "predictions = model.predict(samples_to_predict)\n",
    "\n",
    "classes = np.argmax(predictions, axis = 1)\n",
    "\n",
    "output_labels = ['A','B','C','D','E','F','G','H','I','J','K','L','M','N','O','P','Q','R','S','T','U','V','W','X','Y','Z']\n",
    "\n",
    "\n",
    "result = [output_labels[i] for i in classes]\n",
    "\n",
    "print(result)"
   ]
  }
 ],
 "metadata": {
  "kernelspec": {
   "display_name": "Python 3",
   "language": "python",
   "name": "python3"
  },
  "language_info": {
   "codemirror_mode": {
    "name": "ipython",
    "version": 3
   },
   "file_extension": ".py",
   "mimetype": "text/x-python",
   "name": "python",
   "nbconvert_exporter": "python",
   "pygments_lexer": "ipython3",
   "version": "3.8.5"
  }
 },
 "nbformat": 4,
 "nbformat_minor": 5
}

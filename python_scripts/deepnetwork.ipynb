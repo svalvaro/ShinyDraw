{
 "cells": [
  {
   "cell_type": "code",
   "execution_count": 30,
   "id": "00b81a0c",
   "metadata": {},
   "outputs": [],
   "source": [
    "# load some libraries that I frequently use. \n",
    "import pandas as pd\n",
    "from keras.models import Sequential\n",
    "from keras.layers import Dense\n",
    "from keras.layers import Dropout\n",
    "from keras.layers import Flatten\n",
    "from tensorflow.keras.optimizers import Adam\n",
    "from keras.layers.convolutional import Conv2D\n",
    "from keras.layers.convolutional import MaxPooling2D\n",
    "from keras import backend as K\n",
    "from keras.utils import np_utils\n",
    "from sklearn.model_selection import train_test_split\n",
    "import numpy as np\n",
    "import matplotlib.pyplot as plt\n",
    "import seaborn as sns"
   ]
  },
  {
   "cell_type": "code",
   "execution_count": 7,
   "id": "91d008f8",
   "metadata": {},
   "outputs": [],
   "source": [
    "# Load the dataset as 'numpy array'\n",
    "dataset = np.loadtxt('../data/A_Z Handwritten Data.csv', delimiter= ',')"
   ]
  },
  {
   "cell_type": "code",
   "execution_count": 8,
   "id": "71b89c80",
   "metadata": {},
   "outputs": [],
   "source": [
    "# Divide the dataset into two parts, one is 'Explanaory variable', the other is 'Target'\n",
    "X = dataset[:, 0:784]\n",
    "Y = dataset[:,0]\n",
    "\n",
    "# Split the 'X, Y' data into the ratio of 7:3, 3 is the test size.\n",
    "\n",
    "(X_train, X_test, Y_train, Y_test) = train_test_split(X,Y, test_size= 0.3, \n",
    "                                                      random_state=2)"
   ]
  },
  {
   "cell_type": "code",
   "execution_count": 9,
   "id": "d4df32c9",
   "metadata": {},
   "outputs": [],
   "source": [
    "# Reshape the data and change it into float 32\n",
    "\n",
    "X_train = X_train.reshape(X_train.shape[0], 28,28,1).astype('float32')\n",
    "X_test = X_test.reshape(X_test.shape[0], 28, 28, 1).astype('float32')"
   ]
  },
  {
   "cell_type": "code",
   "execution_count": 10,
   "id": "10496091",
   "metadata": {},
   "outputs": [],
   "source": [
    "# The pixcel of the data is comprised from 0 to 255. 0 is white, 255 is black.\n",
    "# Now we normalize the data from 0 to 1 without some libraries, in a simple way.\n",
    "\n",
    "X_train = X_train / 255\n",
    "X_test = X_test / 255"
   ]
  },
  {
   "cell_type": "code",
   "execution_count": 11,
   "id": "110b7d67",
   "metadata": {},
   "outputs": [],
   "source": [
    "# One-Hot-Encoding of the target\n",
    "\n",
    "Y_train = np_utils.to_categorical(Y_train)\n",
    "Y_test = np_utils.to_categorical(Y_test)\n",
    "\n",
    "# Define the classification of 26 alphabets.\n",
    "\n",
    "num_classes = Y_test.shape[1]"
   ]
  },
  {
   "cell_type": "code",
   "execution_count": 12,
   "id": "463d7de4",
   "metadata": {},
   "outputs": [],
   "source": [
    "# Build an ordinary 'Deep Learning model' with CNN and Max Pooling by using keras\n",
    "\n",
    "model = Sequential()\n",
    "model.add(Conv2D(32, (5, 5), input_shape = (28,28,1),\n",
    "                activation = 'relu'))\n",
    "model.add(MaxPooling2D(pool_size = (2,2)))\n",
    "model.add(Flatten())\n",
    "model.add(Dense(128, activation = 'relu'))\n",
    "model.add(Dense(num_classes, activation = 'softmax'))\n",
    "\n",
    "# Optimizer and compilation\n",
    "\n",
    "model.compile(optimizer= Adam(learning_rate=0.01), \n",
    "             loss = 'categorical_crossentropy',\n",
    "             metrics = ['accuracy'])\n"
   ]
  },
  {
   "cell_type": "code",
   "execution_count": 13,
   "id": "fbecf366",
   "metadata": {},
   "outputs": [
    {
     "name": "stdout",
     "output_type": "stream",
     "text": [
      "Model: \"sequential\"\n",
      "_________________________________________________________________\n",
      "Layer (type)                 Output Shape              Param #   \n",
      "=================================================================\n",
      "conv2d (Conv2D)              (None, 24, 24, 32)        832       \n",
      "_________________________________________________________________\n",
      "max_pooling2d (MaxPooling2D) (None, 12, 12, 32)        0         \n",
      "_________________________________________________________________\n",
      "flatten (Flatten)            (None, 4608)              0         \n",
      "_________________________________________________________________\n",
      "dense (Dense)                (None, 128)               589952    \n",
      "_________________________________________________________________\n",
      "dense_1 (Dense)              (None, 26)                3354      \n",
      "=================================================================\n",
      "Total params: 594,138\n",
      "Trainable params: 594,138\n",
      "Non-trainable params: 0\n",
      "_________________________________________________________________\n",
      "None\n"
     ]
    }
   ],
   "source": [
    "print(model.summary())"
   ]
  },
  {
   "cell_type": "code",
   "execution_count": 14,
   "id": "44d74b73",
   "metadata": {},
   "outputs": [
    {
     "name": "stdout",
     "output_type": "stream",
     "text": [
      "Epoch 1/5\n",
      "2037/2037 [==============================] - 39s 19ms/step - loss: 0.2924 - accuracy: 0.9199\n",
      "Epoch 2/5\n",
      "2037/2037 [==============================] - 38s 19ms/step - loss: 0.0835 - accuracy: 0.9762\n",
      "Epoch 3/5\n",
      "2037/2037 [==============================] - 38s 19ms/step - loss: 0.0715 - accuracy: 0.9797\n",
      "Epoch 4/5\n",
      "2037/2037 [==============================] - 38s 19ms/step - loss: 0.0626 - accuracy: 0.9826\n",
      "Epoch 5/5\n",
      "2037/2037 [==============================] - 38s 19ms/step - loss: 0.0558 - accuracy: 0.9847\n"
     ]
    }
   ],
   "source": [
    "# Fit the train data of model\n",
    "\n",
    "Train = model.fit(X_train, Y_train, batch_size= 128, epochs= 5)"
   ]
  },
  {
   "cell_type": "code",
   "execution_count": 16,
   "id": "6fedce82",
   "metadata": {},
   "outputs": [
    {
     "name": "stdout",
     "output_type": "stream",
     "text": [
      "Epoch 1/5\n",
      "873/873 [==============================] - 16s 18ms/step - loss: 0.0902 - accuracy: 0.9773\n",
      "Epoch 2/5\n",
      "873/873 [==============================] - 16s 19ms/step - loss: 0.0536 - accuracy: 0.9851\n",
      "Epoch 3/5\n",
      "873/873 [==============================] - 17s 19ms/step - loss: 0.0402 - accuracy: 0.9885\n",
      "Epoch 4/5\n",
      "873/873 [==============================] - 18s 21ms/step - loss: 0.0481 - accuracy: 0.9874\n",
      "Epoch 5/5\n",
      "873/873 [==============================] - 16s 19ms/step - loss: 0.0501 - accuracy: 0.9876\n"
     ]
    }
   ],
   "source": [
    "# Check the test data for the model\n",
    "\n",
    "Test = model.fit(X_test, Y_test, batch_size=128, epochs=5)"
   ]
  },
  {
   "cell_type": "code",
   "execution_count": 19,
   "id": "b24e2218",
   "metadata": {},
   "outputs": [
    {
     "data": {
      "image/png": "[encoded data removed]",
      "text/plain": [
       "<Figure size 720x360 with 2 Axes>"
      ]
     },
     "metadata": {
      "needs_background": "light"
     },
     "output_type": "display_data"
    }
   ],
   "source": [
    "#Evaluate the two models by using two metrics, loss and accuracy.\n",
    "metrics = ['loss', 'accuracy']\n",
    "#show the evaluation result by using matoplot.\n",
    "plt.figure(figsize=(10, 5))\n",
    "#Use \"For Loop\".\n",
    "for i in range(len(metrics)):\n",
    "    metric = metrics[i]\n",
    "    #set subplots to show the result\n",
    "    plt.subplot(1, 2, i+1)\n",
    "    #Titles of subplots are \"loss\" and \"accuracy\"\n",
    "    plt.title(metric) \n",
    "    plt_train1 = Train.history[metric] \n",
    "    plt_test1 = Test.history[metric]\n",
    " \n",
    "    #plot them all\n",
    "    plt.plot(plt_train1, label='train') \n",
    "    plt.plot(plt_test1, label='test') \n",
    "\n",
    "    plt.legend() \n",
    "plt.show()"
   ]
  },
  {
   "cell_type": "code",
   "execution_count": 52,
   "id": "09a11d6c",
   "metadata": {},
   "outputs": [
    {
     "data": {
      "image/png": "[encoded data removed]",
      "text/plain": [
       "<Figure size 432x288 with 1 Axes>"
      ]
     },
     "metadata": {
      "needs_background": "light"
     },
     "output_type": "display_data"
    }
   ],
   "source": [
    "# Predict some random pictures\n",
    "#import numpy and give a seed. \n",
    "import numpy as np\n",
    "np.random.seed(2)\n",
    "\n",
    "#Show 3 letter at random and convert them into gray scale letters. \n",
    "plt.imshow(X_train[911].reshape(28,28),cmap='Greys')\n",
    "plt.show()\n",
    "\n"
   ]
  },
  {
   "cell_type": "code",
   "execution_count": 99,
   "id": "06b15cff",
   "metadata": {
    "scrolled": true
   },
   "outputs": [
    {
     "data": {
      "image/png": "[encoded data removed]",
      "text/plain": [
       "<Figure size 432x288 with 1 Axes>"
      ]
     },
     "metadata": {
      "needs_background": "light"
     },
     "output_type": "display_data"
    },
    {
     "name": "stdout",
     "output_type": "stream",
     "text": [
      "(28, 28, 1)\n"
     ]
    }
   ],
   "source": [
    "\n",
    "\n",
    "reshaped_image = X_train[2].reshape(28, 28, 1).astype('float32')\n",
    "\n",
    "reshaped_image = reshaped_image / 255\n",
    "\n",
    "to_predict = np.array(reshaped_image)\n",
    "\n",
    "\n",
    "plt.imshow(reshaped_image,cmap='Greys')\n",
    "plt.show()\n",
    "\n",
    "print(to_predict.shape)\n"
   ]
  },
  {
   "cell_type": "code",
   "execution_count": 110,
   "id": "853e51ba",
   "metadata": {},
   "outputs": [
    {
     "data": {
      "image/png": "[encoded data removed]",
      "text/plain": [
       "<Figure size 432x288 with 1 Axes>"
      ]
     },
     "metadata": {
      "needs_background": "light"
     },
     "output_type": "display_data"
    },
    {
     "data": {
      "image/png": "[encoded data removed]",
      "text/plain": [
       "<Figure size 432x288 with 1 Axes>"
      ]
     },
     "metadata": {
      "needs_background": "light"
     },
     "output_type": "display_data"
    },
    {
     "data": {
      "image/png": "[encoded data removed]",
      "text/plain": [
       "<Figure size 432x288 with 1 Axes>"
      ]
     },
     "metadata": {
      "needs_background": "light"
     },
     "output_type": "display_data"
    },
    {
     "data": {
      "image/png": "[encoded data removed]",
      "text/plain": [
       "<Figure size 432x288 with 1 Axes>"
      ]
     },
     "metadata": {
      "needs_background": "light"
     },
     "output_type": "display_data"
    }
   ],
   "source": [
    "use_samples = [5, 38, 4, 10]\n",
    "samples_to_predict = []\n",
    "\n",
    "# Generate plots for samples\n",
    "for sample in use_samples:\n",
    "  # Generate a plot\n",
    "  reshaped_image = X_train[sample].reshape( 28, 28, 1).astype('float32')\n",
    "  reshaped_image = reshaped_image / 255\n",
    "\n",
    "  plt.imshow(reshaped_image)\n",
    "  plt.show()\n",
    "  samples_to_predict.append(X_train[sample])\n",
    "\n",
    "\n"
   ]
  },
  {
   "cell_type": "code",
   "execution_count": 111,
   "id": "02764e0e",
   "metadata": {},
   "outputs": [
    {
     "name": "stdout",
     "output_type": "stream",
     "text": [
      "(4, 28, 28, 1)\n"
     ]
    }
   ],
   "source": [
    "samples_2_predict = np.array(samples_to_predict)\n",
    "print(samples_2_predict.shape)"
   ]
  },
  {
   "cell_type": "code",
   "execution_count": 116,
   "id": "a0b630bb",
   "metadata": {},
   "outputs": [
    {
     "name": "stdout",
     "output_type": "stream",
     "text": [
      "['Q', 'P', 'Q', 'H']\n"
     ]
    }
   ],
   "source": [
    "predictions = model.predict(samples_2_predict)\n",
    "\n",
    "classes = np.argmax(predictions, axis = 1)\n",
    "\n",
    "output_labels = ['A','B','C','D','E','F','G','H','I','J','K','L','M','N','O','P','Q','R','S','T','U','V','W','X','Y','Z']\n",
    "\n",
    "\n",
    "result = [output_labels[i] for i in classes]\n",
    "\n",
    "print(result)"
   ]
  }
 ],
 "metadata": {
  "kernelspec": {
   "display_name": "Python 3",
   "language": "python",
   "name": "python3"
  },
  "language_info": {
   "codemirror_mode": {
    "name": "ipython",
    "version": 3
   },
   "file_extension": ".py",
   "mimetype": "text/x-python",
   "name": "python",
   "nbconvert_exporter": "python",
   "pygments_lexer": "ipython3",
   "version": "3.8.5"
  }
 },
 "nbformat": 4,
 "nbformat_minor": 5
}
